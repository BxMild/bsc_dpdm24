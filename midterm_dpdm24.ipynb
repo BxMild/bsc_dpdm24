{
  "cells": [
    {
      "cell_type": "markdown",
      "metadata": {
        "id": "view-in-github",
        "colab_type": "text"
      },
      "source": [
        "<a href=\"https://colab.research.google.com/github/BxMild/bsc_dpdm24/blob/main/midterm_dpdm24.ipynb\" target=\"_parent\"><img src=\"https://colab.research.google.com/assets/colab-badge.svg\" alt=\"Open In Colab\"/></a>"
      ]
    },
    {
      "cell_type": "markdown",
      "metadata": {
        "id": "uJd05BLDr51u"
      },
      "source": [
        "## การเตรียมข้อมูลประกอบด้วย กำจัด outlier, แก้ missing, normalization, one-hot-encoder และ อื่นๆ ที่นักศึกษาเห็นว่าเหมาะสม"
      ]
    },
    {
      "cell_type": "markdown",
      "metadata": {
        "id": "PHzJSiMXX0O4"
      },
      "source": [
        "# 1 เตรียมข้อมูลเพื่อทำนายราคาบ้าน (15 คะแนน)\n",
        "เตรียมข้อมูลเพื่อทำนายราคาบ้านมือสอง ราคาประเมินบ้าน และ คะแนนทรัพย์ จาก [google drive](https://drive.google.com/drive/folders/1uIcUFY1yldIq-A3wijh2n2N6az-EljIe?usp=sharing) โดยข้อมูลที่เตรียมต้องประกอบด้วย columns ต่อไปนี้\n",
        "\n",
        "* ```'renovate','number_of_rai','number_of_ngan','number_of_va','number_of_story','number_of_bedroom','number_of_bathroom','direction','furniture','usable_area','number_of_parking', 'sell_price', 'district', \t'sub_district', 'zone'``` จากไฟล์ \"Data House\" - บ้านมือ 2 (5 คะแนน)\n",
        "\n",
        "* ```จำนวน 7-11 และ โรงเรียน ในรัศมี 1 กิโลเมตร (ตั้งชื่อ 'd1000-7/11' และ 'd1000-school')``` จากไฟล์ \"7-eleven.json\" และ \"school.json\" โดยคำนวณจากพิกัด latitute longitude ระหว่างบ้าน และ  7-11 หรือ โรงเรียน ใกล้เคียงของบ้านแต่ละ id ในไฟล์ json (id บ้านหลังไหนที่มีมีข้อมูลแปลว่าไม่มี 7-11 หรือ โรงเรียนอยู่ในรัศมี 5 กิโลเมตร) (7 คะแนน)\n",
        "\n",
        "* ```ประเมินราคาซื้อขาย และ คะแนนทรัพย์ (ตั้งชื่อ 'estimator' และ 'score')``` จากไฟล์ \"คำตอบนักประเมิน(ID)\" - บ้าน โดยราคาประเมินกับคะแนนทรัพย์ อ้างอิงของนักประเมิน ID=01 คนเดียว (3 คะแนน)\n",
        "\n",
        "# 2 จากตารางในข้อ 1 ตอบคำถามต่อไปนี้ (5 คะแนน)\n",
        "1. zone ใดมีราคาซื้อขายบ้าน 'sell price' เฉลี่ยสูงที่สุด (1 คะแนน)\n",
        "2. บ้านที่มีจำนวน 7-11 อยู่ในรัศมี 1 กิโลเมตรมากที่สุด ราคาเท่าไหร่ (2 คะแนน)\n",
        "3. ตำบล (sub_district) ไหน ได้คะแนนทรัพย์ 'score' เฉลี่ยจากนักประเมินมากที่สุด (2 คะแนน)"
      ]
    },
    {
      "cell_type": "markdown",
      "source": [
        "#"
      ],
      "metadata": {
        "id": "8eU3WGTYMTHf"
      }
    },
    {
      "cell_type": "code",
      "execution_count": 1,
      "metadata": {
        "id": "k6XCnd2JW9Vi"
      },
      "outputs": [],
      "source": [
        "import pandas as pd\n",
        "import numpy as np"
      ]
    },
    {
      "cell_type": "code",
      "execution_count": 2,
      "metadata": {
        "colab": {
          "base_uri": "https://localhost:8080/"
        },
        "id": "6ZcUygafk15u",
        "outputId": "f21fb687-84f1-4782-92a6-23d3f9735589"
      },
      "outputs": [
        {
          "output_type": "stream",
          "name": "stdout",
          "text": [
            "Mounted at /content/drive\n"
          ]
        }
      ],
      "source": [
        "from google.colab import drive\n",
        "drive.mount('/content/drive')"
      ]
    },
    {
      "cell_type": "code",
      "execution_count": 3,
      "metadata": {
        "colab": {
          "base_uri": "https://localhost:8080/",
          "height": 186
        },
        "id": "ctt7HfRqDL0g",
        "outputId": "132fef8e-d060-4463-c969-6e17c0e94cc5"
      },
      "outputs": [
        {
          "output_type": "execute_result",
          "data": {
            "text/plain": [
              "<bound method NDFrame.head of           id                                        name_th  \\\n",
              "0          1                        บ้านเดี่ยว ชนบท ขอนแก่น   \n",
              "1          4                      บ้านเดี่ยว น้ำพอง ขอนแก่น   \n",
              "2         16                   บ้านเดี่ยว มัญจาคีรี ขอนแก่น   \n",
              "3         18          บ้านเดี่ยว เมืองขอนแก่น หมู่บ้านชลลดา   \n",
              "4         19       บ้านเดี่ยว เมืองขอนแก่น หมู่บ้านเบสต์โฮม   \n",
              "...      ...                                            ...   \n",
              "1651  20460P  ขายถูก! บ้านเดี่ยว จังหวัดขอนแก่น 02-88-06026   \n",
              "1652  20462P  ขายถูก! บ้านเดี่ยว จังหวัดขอนแก่น 02-88-06033   \n",
              "1653  20463P  ขายถูก! บ้านเดี่ยว จังหวัดขอนแก่น 02-88-07581   \n",
              "1654  20466P  ขายถูก! บ้านเดี่ยว จังหวัดขอนแก่น 02-88-10402   \n",
              "1655  30358P  ขายถูก! บ้านเดี่ยว จังหวัดขอนแก่น 02-88-08537   \n",
              "\n",
              "                                            name_en    project_name  \\\n",
              "0                           บ้านเดี่ยว ชนบท ขอนแก่น     บ้านวังเวิน   \n",
              "1                         บ้านเดี่ยว น้ำพอง ขอนแก่น  บ้านหนองบัวบาน   \n",
              "2                      บ้านเดี่ยว มัญจาคีรี ขอนแก่น             NaN   \n",
              "3             บ้านเดี่ยว เมืองขอนแก่น หมู่บ้านชลลดา   ชลลดา ขอนแก่น   \n",
              "4          บ้านเดี่ยว เมืองขอนแก่น หมู่บ้านเบสต์โฮม        เบสท์โฮม   \n",
              "...                                             ...             ...   \n",
              "1651  ขายถูก! บ้านเดี่ยว จังหวัดขอนแก่น 02-88-06027             NaN   \n",
              "1652  ขายถูก! บ้านเดี่ยว จังหวัดขอนแก่น 02-88-06034             NaN   \n",
              "1653  ขายถูก! บ้านเดี่ยว จังหวัดขอนแก่น 02-88-07582             NaN   \n",
              "1654  ขายถูก! บ้านเดี่ยว จังหวัดขอนแก่น 02-88-10403             NaN   \n",
              "1655  ขายถูก! บ้านเดี่ยว จังหวัดขอนแก่น 02-88-08538             NaN   \n",
              "\n",
              "                                    company province      district  \\\n",
              "0                                       NaN  ขอนแก่น          ชนบท   \n",
              "1                                       NaN  ขอนแก่น        น้ำพอง   \n",
              "2                                       NaN  ขอนแก่น     มัญจาคีรี   \n",
              "3     บริษัท แลนด์แอนด์เฮ้าส์ จำกัด (มหาชน)  ขอนแก่น  เมืองขอนแก่น   \n",
              "4               เบสท์โฮม เลี่ยงเมืองขอนแก่น  ขอนแก่น  เมืองขอนแก่น   \n",
              "...                                     ...      ...           ...   \n",
              "1651                                    NaN  ขอนแก่น       บ้านฝาง   \n",
              "1652                                    NaN  ขอนแก่น      หนองเรือ   \n",
              "1653                                    NaN  ขอนแก่น       แวงน้อย   \n",
              "1654                                    NaN  ขอนแก่น         ชุมแพ   \n",
              "1655                                    NaN  ขอนแก่น       บ้านไผ่   \n",
              "\n",
              "     sub_district property_type home improvement  ... furniture  \\\n",
              "0     ศรีบุญเรือง    บ้านเดี่ยว               no  ...     ไม่มี   \n",
              "1         ทรายมูล    บ้านเดี่ยว               no  ...     ไม่มี   \n",
              "2         กุดเค้า    บ้านเดี่ยว               no  ...   ไม่ระบุ   \n",
              "3        บ้านเป็ด    บ้านเดี่ยว               no  ...   ไม่ระบุ   \n",
              "4        บ้านเป็ด    บ้านเดี่ยว               no  ...   ไม่ระบุ   \n",
              "...           ...           ...              ...  ...       ...   \n",
              "1651      หนองบัว    บ้านเดี่ยว               no  ...   ไม่ระบุ   \n",
              "1652       โนนทอง    บ้านเดี่ยว               no  ...   ไม่ระบุ   \n",
              "1653   ก้านเหลือง    บ้านเดี่ยว               no  ...   ไม่ระบุ   \n",
              "1654    วังหินลาด    บ้านเดี่ยว               no  ...   ไม่ระบุ   \n",
              "1655      หินตั้ง    บ้านเดี่ยว               no  ...   ไม่ระบุ   \n",
              "\n",
              "     building_number number_of_building  floor_number  parking_percentage  \\\n",
              "0                NaN                NaN           NaN                 NaN   \n",
              "1                NaN                NaN           NaN                 NaN   \n",
              "2                NaN                NaN           NaN                 NaN   \n",
              "3                NaN                NaN           NaN                 NaN   \n",
              "4                NaN                NaN           NaN                 NaN   \n",
              "...              ...                ...           ...                 ...   \n",
              "1651             NaN                NaN           NaN                 NaN   \n",
              "1652             NaN                NaN           NaN                 NaN   \n",
              "1653             NaN                NaN           NaN                 NaN   \n",
              "1654             NaN                NaN           NaN                 NaN   \n",
              "1655             NaN                NaN           NaN                 NaN   \n",
              "\n",
              "     has_pool has_keycard  has_security has_fitness has_garden  \n",
              "0         NaN         NaN           NaN         NaN        NaN  \n",
              "1         NaN         NaN           NaN         NaN        NaN  \n",
              "2         NaN         NaN           NaN         NaN        NaN  \n",
              "3         NaN         NaN           NaN         NaN        NaN  \n",
              "4         NaN         NaN           NaN         NaN        NaN  \n",
              "...       ...         ...           ...         ...        ...  \n",
              "1651      NaN         NaN           NaN         NaN        NaN  \n",
              "1652      NaN         NaN           NaN         NaN        NaN  \n",
              "1653      NaN         NaN           NaN         NaN        NaN  \n",
              "1654      NaN         NaN           NaN         NaN        NaN  \n",
              "1655      NaN         NaN           NaN         NaN        NaN  \n",
              "\n",
              "[1656 rows x 47 columns]>"
            ],
            "text/html": [
              "<div style=\"max-width:800px; border: 1px solid var(--colab-border-color);\"><style>\n",
              "      pre.function-repr-contents {\n",
              "        overflow-x: auto;\n",
              "        padding: 8px 12px;\n",
              "        max-height: 500px;\n",
              "      }\n",
              "\n",
              "      pre.function-repr-contents.function-repr-contents-collapsed {\n",
              "        cursor: pointer;\n",
              "        max-height: 100px;\n",
              "      }\n",
              "    </style>\n",
              "    <pre style=\"white-space: initial; background:\n",
              "         var(--colab-secondary-surface-color); padding: 8px 12px;\n",
              "         border-bottom: 1px solid var(--colab-border-color);\"><b>pandas.core.generic.NDFrame.head</b><br/>def head(n: int=5) -&gt; Self</pre><pre class=\"function-repr-contents function-repr-contents-collapsed\" style=\"\"><a class=\"filepath\" style=\"display:none\" href=\"#\">/usr/local/lib/python3.10/dist-packages/pandas/core/generic.py</a>Return the first `n` rows.\n",
              "\n",
              "This function returns the first `n` rows for the object based\n",
              "on position. It is useful for quickly testing if your object\n",
              "has the right type of data in it.\n",
              "\n",
              "For negative values of `n`, this function returns all rows except\n",
              "the last `|n|` rows, equivalent to ``df[:n]``.\n",
              "\n",
              "If n is larger than the number of rows, this function returns all rows.\n",
              "\n",
              "Parameters\n",
              "----------\n",
              "n : int, default 5\n",
              "    Number of rows to select.\n",
              "\n",
              "Returns\n",
              "-------\n",
              "same type as caller\n",
              "    The first `n` rows of the caller object.\n",
              "\n",
              "See Also\n",
              "--------\n",
              "DataFrame.tail: Returns the last `n` rows.\n",
              "\n",
              "Examples\n",
              "--------\n",
              "&gt;&gt;&gt; df = pd.DataFrame({&#x27;animal&#x27;: [&#x27;alligator&#x27;, &#x27;bee&#x27;, &#x27;falcon&#x27;, &#x27;lion&#x27;,\n",
              "...                    &#x27;monkey&#x27;, &#x27;parrot&#x27;, &#x27;shark&#x27;, &#x27;whale&#x27;, &#x27;zebra&#x27;]})\n",
              "&gt;&gt;&gt; df\n",
              "      animal\n",
              "0  alligator\n",
              "1        bee\n",
              "2     falcon\n",
              "3       lion\n",
              "4     monkey\n",
              "5     parrot\n",
              "6      shark\n",
              "7      whale\n",
              "8      zebra\n",
              "\n",
              "Viewing the first 5 lines\n",
              "\n",
              "&gt;&gt;&gt; df.head()\n",
              "      animal\n",
              "0  alligator\n",
              "1        bee\n",
              "2     falcon\n",
              "3       lion\n",
              "4     monkey\n",
              "\n",
              "Viewing the first `n` lines (three in this case)\n",
              "\n",
              "&gt;&gt;&gt; df.head(3)\n",
              "      animal\n",
              "0  alligator\n",
              "1        bee\n",
              "2     falcon\n",
              "\n",
              "For negative values of `n`\n",
              "\n",
              "&gt;&gt;&gt; df.head(-3)\n",
              "      animal\n",
              "0  alligator\n",
              "1        bee\n",
              "2     falcon\n",
              "3       lion\n",
              "4     monkey\n",
              "5     parrot</pre>\n",
              "      <script>\n",
              "      if (google.colab.kernel.accessAllowed && google.colab.files && google.colab.files.view) {\n",
              "        for (const element of document.querySelectorAll('.filepath')) {\n",
              "          element.style.display = 'block'\n",
              "          element.onclick = (event) => {\n",
              "            event.preventDefault();\n",
              "            event.stopPropagation();\n",
              "            google.colab.files.view(element.textContent, 5818);\n",
              "          };\n",
              "        }\n",
              "      }\n",
              "      for (const element of document.querySelectorAll('.function-repr-contents')) {\n",
              "        element.onclick = (event) => {\n",
              "          event.preventDefault();\n",
              "          event.stopPropagation();\n",
              "          element.classList.toggle('function-repr-contents-collapsed');\n",
              "        };\n",
              "      }\n",
              "      </script>\n",
              "      </div>"
            ]
          },
          "metadata": {},
          "execution_count": 3
        }
      ],
      "source": [
        "data_house = pd.read_csv('/content/drive/MyDrive/Data_BSC_DPDM24/Data House.csv')\n",
        "data_house.head"
      ]
    },
    {
      "cell_type": "code",
      "execution_count": 4,
      "metadata": {
        "colab": {
          "base_uri": "https://localhost:8080/",
          "height": 186
        },
        "id": "AxV3MeMrDg6J",
        "outputId": "61c50aa7-7d2f-4f70-e4f6-c5bb53464e10"
      },
      "outputs": [
        {
          "output_type": "execute_result",
          "data": {
            "text/plain": [
              "<bound method NDFrame.head of       ID ผู้ประเมิน                                post id     ID  \\\n",
              "0                 1     https://nayoo.co/khonkaen/posts/25     25   \n",
              "1                 2     https://nayoo.co/khonkaen/posts/25     25   \n",
              "2                 1     https://nayoo.co/khonkaen/posts/33     33   \n",
              "3                 2     https://nayoo.co/khonkaen/posts/33     33   \n",
              "4                 1    https://nayoo.co/khonkaen/posts/495    495   \n",
              "...             ...                                    ...    ...   \n",
              "1912              2  https://nayoo.co/khonkaen/posts/17867  17867   \n",
              "1913              2  https://nayoo.co/khonkaen/posts/17873  17873   \n",
              "1914              2  https://nayoo.co/khonkaen/posts/17874  17874   \n",
              "1915              2  https://nayoo.co/khonkaen/posts/17876  17876   \n",
              "1916              2  https://nayoo.co/khonkaen/posts/17885  17885   \n",
              "\n",
              "     property_type ความมั่นใจในการเมินราคาทรัพย์  ราคาทรัพย์  \\\n",
              "0       บ้านเดี่ยว                        มั่นใจ   2,890,000   \n",
              "1       บ้านเดี่ยว                        มั่นใจ   2,890,000   \n",
              "2       บ้านเดี่ยว                        มั่นใจ   2,600,000   \n",
              "3       บ้านเดี่ยว                        มั่นใจ   2,600,000   \n",
              "4       บ้านเดี่ยว                        มั่นใจ   6,050,000   \n",
              "...            ...                           ...         ...   \n",
              "1912    บ้านเดี่ยว                        มั่นใจ     965,000   \n",
              "1913    บ้านเดี่ยว                        มั่นใจ   1,000,000   \n",
              "1914    บ้านเดี่ยว                        มั่นใจ  10,873,000   \n",
              "1915    บ้านเดี่ยว                        มั่นใจ   1,000,000   \n",
              "1916    บ้านเดี่ยว                        มั่นใจ   3,200,000   \n",
              "\n",
              "     ประเมินราคาซื้อ-ขาย                     ปัจจัยในการประเมินราคาซื้อ-ขาย  \\\n",
              "0              2,500,000                                       5,000-15,000   \n",
              "1              2,700,000  โครงการนี้ราคาเสนอขาย 2,500,000-3,000,000 บาท/...   \n",
              "2              2,200,000                                       5,000-15,000   \n",
              "3              2,400,000   ราคาเสนอขายประมาณ 2,200,000 - 2,500,000 บาท/หลัง   \n",
              "4              5,000,000                                       5,000-15,000   \n",
              "...                  ...                                                ...   \n",
              "1912             550,000              ราคาเสนอขาย 2,000 - 3,000 บาท/ตารางวา   \n",
              "1913           1,000,000              ราคาเสนอขาย 2,500 - 3,000 บาท/ตารางวา   \n",
              "1914          10,000,000            ราคาเสนอขาย 12,000 - 15,000 บาท/ตารางวา   \n",
              "1915           1,200,000                   ราคาเสนอขาย 1.2-1.5 ล้านบาท/หลัง   \n",
              "1916           3,500,000                   ราคาเสนอขาย 3.5-5.0 ล้านบาท/หลัง   \n",
              "\n",
              "     เหตุผลไม่มั่นใจราคาประเมิน                      ให้คะแนนทรัพย์  \n",
              "0                           NaN   3 ขายได้ ใช้ระยะเวลา 7 - 12 เดือน  \n",
              "1                           NaN    4 ขายได้ ใช้ระยะเวลา 4 - 6 เดือน  \n",
              "2                           NaN  2 ขายได้ยาก ใช้ระยะเวลามากว่า 1 ปี  \n",
              "3                           NaN   3 ขายได้ ใช้ระยะเวลา 7 - 12 เดือน  \n",
              "4                           NaN   3 ขายได้ ใช้ระยะเวลา 7 - 12 เดือน  \n",
              "...                         ...                                 ...  \n",
              "1912                        NaN   3 ขายได้ ใช้ระยะเวลา 7 - 12 เดือน  \n",
              "1913                        NaN   3 ขายได้ ใช้ระยะเวลา 7 - 12 เดือน  \n",
              "1914                        NaN   3 ขายได้ ใช้ระยะเวลา 7 - 12 เดือน  \n",
              "1915                        NaN   3 ขายได้ ใช้ระยะเวลา 7 - 12 เดือน  \n",
              "1916                        NaN   3 ขายได้ ใช้ระยะเวลา 7 - 12 เดือน  \n",
              "\n",
              "[1917 rows x 10 columns]>"
            ],
            "text/html": [
              "<div style=\"max-width:800px; border: 1px solid var(--colab-border-color);\"><style>\n",
              "      pre.function-repr-contents {\n",
              "        overflow-x: auto;\n",
              "        padding: 8px 12px;\n",
              "        max-height: 500px;\n",
              "      }\n",
              "\n",
              "      pre.function-repr-contents.function-repr-contents-collapsed {\n",
              "        cursor: pointer;\n",
              "        max-height: 100px;\n",
              "      }\n",
              "    </style>\n",
              "    <pre style=\"white-space: initial; background:\n",
              "         var(--colab-secondary-surface-color); padding: 8px 12px;\n",
              "         border-bottom: 1px solid var(--colab-border-color);\"><b>pandas.core.generic.NDFrame.head</b><br/>def head(n: int=5) -&gt; Self</pre><pre class=\"function-repr-contents function-repr-contents-collapsed\" style=\"\"><a class=\"filepath\" style=\"display:none\" href=\"#\">/usr/local/lib/python3.10/dist-packages/pandas/core/generic.py</a>Return the first `n` rows.\n",
              "\n",
              "This function returns the first `n` rows for the object based\n",
              "on position. It is useful for quickly testing if your object\n",
              "has the right type of data in it.\n",
              "\n",
              "For negative values of `n`, this function returns all rows except\n",
              "the last `|n|` rows, equivalent to ``df[:n]``.\n",
              "\n",
              "If n is larger than the number of rows, this function returns all rows.\n",
              "\n",
              "Parameters\n",
              "----------\n",
              "n : int, default 5\n",
              "    Number of rows to select.\n",
              "\n",
              "Returns\n",
              "-------\n",
              "same type as caller\n",
              "    The first `n` rows of the caller object.\n",
              "\n",
              "See Also\n",
              "--------\n",
              "DataFrame.tail: Returns the last `n` rows.\n",
              "\n",
              "Examples\n",
              "--------\n",
              "&gt;&gt;&gt; df = pd.DataFrame({&#x27;animal&#x27;: [&#x27;alligator&#x27;, &#x27;bee&#x27;, &#x27;falcon&#x27;, &#x27;lion&#x27;,\n",
              "...                    &#x27;monkey&#x27;, &#x27;parrot&#x27;, &#x27;shark&#x27;, &#x27;whale&#x27;, &#x27;zebra&#x27;]})\n",
              "&gt;&gt;&gt; df\n",
              "      animal\n",
              "0  alligator\n",
              "1        bee\n",
              "2     falcon\n",
              "3       lion\n",
              "4     monkey\n",
              "5     parrot\n",
              "6      shark\n",
              "7      whale\n",
              "8      zebra\n",
              "\n",
              "Viewing the first 5 lines\n",
              "\n",
              "&gt;&gt;&gt; df.head()\n",
              "      animal\n",
              "0  alligator\n",
              "1        bee\n",
              "2     falcon\n",
              "3       lion\n",
              "4     monkey\n",
              "\n",
              "Viewing the first `n` lines (three in this case)\n",
              "\n",
              "&gt;&gt;&gt; df.head(3)\n",
              "      animal\n",
              "0  alligator\n",
              "1        bee\n",
              "2     falcon\n",
              "\n",
              "For negative values of `n`\n",
              "\n",
              "&gt;&gt;&gt; df.head(-3)\n",
              "      animal\n",
              "0  alligator\n",
              "1        bee\n",
              "2     falcon\n",
              "3       lion\n",
              "4     monkey\n",
              "5     parrot</pre>\n",
              "      <script>\n",
              "      if (google.colab.kernel.accessAllowed && google.colab.files && google.colab.files.view) {\n",
              "        for (const element of document.querySelectorAll('.filepath')) {\n",
              "          element.style.display = 'block'\n",
              "          element.onclick = (event) => {\n",
              "            event.preventDefault();\n",
              "            event.stopPropagation();\n",
              "            google.colab.files.view(element.textContent, 5818);\n",
              "          };\n",
              "        }\n",
              "      }\n",
              "      for (const element of document.querySelectorAll('.function-repr-contents')) {\n",
              "        element.onclick = (event) => {\n",
              "          event.preventDefault();\n",
              "          event.stopPropagation();\n",
              "          element.classList.toggle('function-repr-contents-collapsed');\n",
              "        };\n",
              "      }\n",
              "      </script>\n",
              "      </div>"
            ]
          },
          "metadata": {},
          "execution_count": 4
        }
      ],
      "source": [
        "appraisal = pd.read_csv('/content/drive/MyDrive/Data_BSC_DPDM24/คำตอบนักประเมิน(ID).csv')\n",
        "appraisal.head"
      ]
    },
    {
      "cell_type": "code",
      "execution_count": 5,
      "metadata": {
        "colab": {
          "base_uri": "https://localhost:8080/"
        },
        "id": "cePZfTA1DyGt",
        "outputId": "fc198ade-1ea5-4a26-839e-fae2a955d3e3"
      },
      "outputs": [
        {
          "output_type": "stream",
          "name": "stdout",
          "text": [
            "['1', '4', '6']\n",
            "['1', '4', '6']\n"
          ]
        }
      ],
      "source": [
        "# prompt: read json file in drive\n",
        "\n",
        "import json\n",
        "\n",
        "# Load the JSON data from the file in Google Drive\n",
        "with open('/content/drive/MyDrive/Data_BSC_DPDM24/7-eleven.json', 'r') as f:\n",
        "    seven_eleven_data = json.load(f)\n",
        "\n",
        "with open('/content/drive/MyDrive/Data_BSC_DPDM24/school.json', 'r') as f:\n",
        "    school_data = json.load(f)\n",
        "\n",
        "# Now you can work with seven_eleven_data and school_data\n",
        "# Example: Print the first few entries\n",
        "print(list(seven_eleven_data.keys())[:3])\n",
        "print(list(school_data.keys())[:3])"
      ]
    },
    {
      "cell_type": "markdown",
      "metadata": {
        "id": "retTwW6dFfSN"
      },
      "source": [
        "## จัดการ data_house"
      ]
    },
    {
      "cell_type": "markdown",
      "metadata": {
        "id": "BrBild2_FarF"
      },
      "source": [
        "### 1. ตรวจสอบและจัดการข้อมูล missing"
      ]
    },
    {
      "cell_type": "code",
      "execution_count": 6,
      "metadata": {
        "id": "aouf_1LyFiVH"
      },
      "outputs": [],
      "source": [
        "# ใช้ fillna โดยไม่ใช้ inplace=True\n",
        "data_house['number_of_bedroom'] = data_house['number_of_bedroom'].fillna(data_house['number_of_bedroom'].mean())\n",
        "data_house['usable_area'] = data_house['usable_area'].fillna(data_house['usable_area'].mean())\n",
        "data_house['sell_price'] = data_house['sell_price'].fillna(data_house['sell_price'].mean())\n",
        "data_house['number_of_parking'] = data_house['number_of_parking'].fillna(data_house['number_of_parking'].mean())\n",
        "data_house['renovate'] = data_house['renovate'].fillna(data_house['renovate'].mode()[0])\n",
        "data_house['number_of_story'] = data_house['number_of_story'].fillna(data_house['number_of_story'].mode()[0])"
      ]
    },
    {
      "cell_type": "markdown",
      "metadata": {
        "id": "ik3MyYqKFm23"
      },
      "source": [
        "### 2. การกำจัดค่า outliers ด้วย IQR (Interquartile Range)"
      ]
    },
    {
      "cell_type": "code",
      "execution_count": 7,
      "metadata": {
        "id": "eSk0gponFYkO"
      },
      "outputs": [],
      "source": [
        "# คำนวณ IQR สำหรับคอลัมน์ที่เกี่ยวข้อง\n",
        "Q1 = data_house[['number_of_bedroom', 'number_of_bathroom', 'usable_area', 'sell_price']].quantile(0.25)\n",
        "Q3 = data_house[['number_of_bedroom', 'number_of_bathroom', 'usable_area', 'sell_price']].quantile(0.75)\n",
        "IQR = Q3 - Q1\n",
        "\n",
        "# กำจัด outliers\n",
        "data_house_cleaned = data_house[~((data_house[['number_of_bedroom', 'number_of_bathroom', 'usable_area', 'sell_price']] < (Q1 - 1.5 * IQR)) | (data_house[['number_of_bedroom', 'number_of_bathroom', 'usable_area', 'sell_price']] > (Q3 + 1.5 * IQR))).any(axis=1)]\n"
      ]
    },
    {
      "cell_type": "markdown",
      "metadata": {
        "id": "ZiU4KwXpFp-X"
      },
      "source": [
        "### 3. การทำ Normalization"
      ]
    },
    {
      "cell_type": "code",
      "execution_count": 8,
      "metadata": {
        "id": "y6fzh7OZFtPQ",
        "colab": {
          "base_uri": "https://localhost:8080/"
        },
        "outputId": "5ef27e9f-0abc-4029-8b12-cff6c530eaf5"
      },
      "outputs": [
        {
          "output_type": "stream",
          "name": "stderr",
          "text": [
            "<ipython-input-8-9c8b67e1260b>:4: FutureWarning: Setting an item of incompatible dtype is deprecated and will raise in a future error of pandas. Value '[0.5 0.  1.  ... 0.  0.  0. ]' has dtype incompatible with int64, please explicitly cast to a compatible dtype first.\n",
            "  data_house_cleaned.loc[:, ['number_of_bedroom', 'number_of_bathroom', 'usable_area', 'sell_price']] = scaler.fit_transform(data_house_cleaned[['number_of_bedroom', 'number_of_bathroom', 'usable_area', 'sell_price']])\n"
          ]
        }
      ],
      "source": [
        "from sklearn.preprocessing import MinMaxScaler\n",
        "\n",
        "scaler = MinMaxScaler()\n",
        "data_house_cleaned.loc[:, ['number_of_bedroom', 'number_of_bathroom', 'usable_area', 'sell_price']] = scaler.fit_transform(data_house_cleaned[['number_of_bedroom', 'number_of_bathroom', 'usable_area', 'sell_price']])"
      ]
    },
    {
      "cell_type": "markdown",
      "metadata": {
        "id": "Q4yRf2MJFwVP"
      },
      "source": [
        "### 4. การทำ One-Hot Encoding สำหรับคอลัมน์ที่เป็น Categorical"
      ]
    },
    {
      "cell_type": "code",
      "execution_count": 9,
      "metadata": {
        "id": "wcqCAJPCF0TI"
      },
      "outputs": [],
      "source": [
        "data_house_encoded = pd.get_dummies(data_house_cleaned, columns=['direction', 'furniture', 'zone'], drop_first=True)"
      ]
    },
    {
      "cell_type": "code",
      "source": [
        "data_house = data_house_encoded"
      ],
      "metadata": {
        "id": "0JGznATULU4h"
      },
      "execution_count": 10,
      "outputs": []
    },
    {
      "cell_type": "markdown",
      "metadata": {
        "id": "c044pYhnGEGy"
      },
      "source": [
        "## คำนวณจำนวน 7-11 และโรงเรียนในรัศมี 1 กิโลเมตร"
      ]
    },
    {
      "cell_type": "code",
      "source": [
        "!pip install haversine\n",
        "import haversine"
      ],
      "metadata": {
        "colab": {
          "base_uri": "https://localhost:8080/"
        },
        "id": "Lyfz5PwzQd-U",
        "outputId": "aa81b9bd-5535-4895-a85b-0e5ffe4b8a31"
      },
      "execution_count": 37,
      "outputs": [
        {
          "output_type": "stream",
          "name": "stdout",
          "text": [
            "Collecting haversine\n",
            "  Downloading haversine-2.9.0-py2.py3-none-any.whl.metadata (5.8 kB)\n",
            "Downloading haversine-2.9.0-py2.py3-none-any.whl (7.7 kB)\n",
            "Installing collected packages: haversine\n",
            "Successfully installed haversine-2.9.0\n"
          ]
        }
      ]
    },
    {
      "cell_type": "code",
      "source": [
        "def count_nearby(lat, lon, places_data):\n",
        "    count = 0\n",
        "    for place_id, places in places_data.items():\n",
        "        for place in places:\n",
        "            place_lat = place['geometry']['location']['lat']  # ใช้ 'geometry' -> 'location' -> 'lat'\n",
        "            place_lon = place['geometry']['location']['lng']  # ใช้ 'geometry' -> 'location' -> 'lng'\n",
        "            distance = haversine(lat, lon, place_lat, place_lon)\n",
        "            if distance <= 1:  # ถ้าอยู่ในรัศมี 1 กม.\n",
        "                count += 1\n",
        "    return count\n",
        "\n",
        "# คำนวณจำนวน 7-11 และโรงเรียนในรัศมี 1 กิโลเมตร\n",
        "data_house['d1000-7/11'] = data_house.apply(lambda row: count_nearby(row['latitude'], row['longitude'], seven_eleven_data), axis=1)\n",
        "data_house['d1000-school'] = data_house.apply(lambda row: count_nearby(row['latitude'], row['longitude'], school_data), axis=1)\n"
      ],
      "metadata": {
        "id": "WxsrVXK5KUGZ",
        "colab": {
          "base_uri": "https://localhost:8080/",
          "height": 408
        },
        "outputId": "89851a41-968f-4ce2-c6d7-822025622a5c"
      },
      "execution_count": 38,
      "outputs": [
        {
          "output_type": "error",
          "ename": "TypeError",
          "evalue": "'module' object is not callable",
          "traceback": [
            "\u001b[0;31m---------------------------------------------------------------------------\u001b[0m",
            "\u001b[0;31mTypeError\u001b[0m                                 Traceback (most recent call last)",
            "\u001b[0;32m<ipython-input-38-cbb397aacc25>\u001b[0m in \u001b[0;36m<cell line: 13>\u001b[0;34m()\u001b[0m\n\u001b[1;32m     11\u001b[0m \u001b[0;34m\u001b[0m\u001b[0m\n\u001b[1;32m     12\u001b[0m \u001b[0;31m# คำนวณจำนวน 7-11 และโรงเรียนในรัศมี 1 กิโลเมตร\u001b[0m\u001b[0;34m\u001b[0m\u001b[0;34m\u001b[0m\u001b[0m\n\u001b[0;32m---> 13\u001b[0;31m \u001b[0mdata_house\u001b[0m\u001b[0;34m[\u001b[0m\u001b[0;34m'd1000-7/11'\u001b[0m\u001b[0;34m]\u001b[0m \u001b[0;34m=\u001b[0m \u001b[0mdata_house\u001b[0m\u001b[0;34m.\u001b[0m\u001b[0mapply\u001b[0m\u001b[0;34m(\u001b[0m\u001b[0;32mlambda\u001b[0m \u001b[0mrow\u001b[0m\u001b[0;34m:\u001b[0m \u001b[0mcount_nearby\u001b[0m\u001b[0;34m(\u001b[0m\u001b[0mrow\u001b[0m\u001b[0;34m[\u001b[0m\u001b[0;34m'latitude'\u001b[0m\u001b[0;34m]\u001b[0m\u001b[0;34m,\u001b[0m \u001b[0mrow\u001b[0m\u001b[0;34m[\u001b[0m\u001b[0;34m'longitude'\u001b[0m\u001b[0;34m]\u001b[0m\u001b[0;34m,\u001b[0m \u001b[0mseven_eleven_data\u001b[0m\u001b[0;34m)\u001b[0m\u001b[0;34m,\u001b[0m \u001b[0maxis\u001b[0m\u001b[0;34m=\u001b[0m\u001b[0;36m1\u001b[0m\u001b[0;34m)\u001b[0m\u001b[0;34m\u001b[0m\u001b[0;34m\u001b[0m\u001b[0m\n\u001b[0m\u001b[1;32m     14\u001b[0m \u001b[0mdata_house\u001b[0m\u001b[0;34m[\u001b[0m\u001b[0;34m'd1000-school'\u001b[0m\u001b[0;34m]\u001b[0m \u001b[0;34m=\u001b[0m \u001b[0mdata_house\u001b[0m\u001b[0;34m.\u001b[0m\u001b[0mapply\u001b[0m\u001b[0;34m(\u001b[0m\u001b[0;32mlambda\u001b[0m \u001b[0mrow\u001b[0m\u001b[0;34m:\u001b[0m \u001b[0mcount_nearby\u001b[0m\u001b[0;34m(\u001b[0m\u001b[0mrow\u001b[0m\u001b[0;34m[\u001b[0m\u001b[0;34m'latitude'\u001b[0m\u001b[0;34m]\u001b[0m\u001b[0;34m,\u001b[0m \u001b[0mrow\u001b[0m\u001b[0;34m[\u001b[0m\u001b[0;34m'longitude'\u001b[0m\u001b[0;34m]\u001b[0m\u001b[0;34m,\u001b[0m \u001b[0mschool_data\u001b[0m\u001b[0;34m)\u001b[0m\u001b[0;34m,\u001b[0m \u001b[0maxis\u001b[0m\u001b[0;34m=\u001b[0m\u001b[0;36m1\u001b[0m\u001b[0;34m)\u001b[0m\u001b[0;34m\u001b[0m\u001b[0;34m\u001b[0m\u001b[0m\n",
            "\u001b[0;32m/usr/local/lib/python3.10/dist-packages/pandas/core/frame.py\u001b[0m in \u001b[0;36mapply\u001b[0;34m(self, func, axis, raw, result_type, args, by_row, engine, engine_kwargs, **kwargs)\u001b[0m\n\u001b[1;32m  10372\u001b[0m             \u001b[0mkwargs\u001b[0m\u001b[0;34m=\u001b[0m\u001b[0mkwargs\u001b[0m\u001b[0;34m,\u001b[0m\u001b[0;34m\u001b[0m\u001b[0;34m\u001b[0m\u001b[0m\n\u001b[1;32m  10373\u001b[0m         )\n\u001b[0;32m> 10374\u001b[0;31m         \u001b[0;32mreturn\u001b[0m \u001b[0mop\u001b[0m\u001b[0;34m.\u001b[0m\u001b[0mapply\u001b[0m\u001b[0;34m(\u001b[0m\u001b[0;34m)\u001b[0m\u001b[0;34m.\u001b[0m\u001b[0m__finalize__\u001b[0m\u001b[0;34m(\u001b[0m\u001b[0mself\u001b[0m\u001b[0;34m,\u001b[0m \u001b[0mmethod\u001b[0m\u001b[0;34m=\u001b[0m\u001b[0;34m\"apply\"\u001b[0m\u001b[0;34m)\u001b[0m\u001b[0;34m\u001b[0m\u001b[0;34m\u001b[0m\u001b[0m\n\u001b[0m\u001b[1;32m  10375\u001b[0m \u001b[0;34m\u001b[0m\u001b[0m\n\u001b[1;32m  10376\u001b[0m     def map(\n",
            "\u001b[0;32m/usr/local/lib/python3.10/dist-packages/pandas/core/apply.py\u001b[0m in \u001b[0;36mapply\u001b[0;34m(self)\u001b[0m\n\u001b[1;32m    914\u001b[0m             \u001b[0;32mreturn\u001b[0m \u001b[0mself\u001b[0m\u001b[0;34m.\u001b[0m\u001b[0mapply_raw\u001b[0m\u001b[0;34m(\u001b[0m\u001b[0mengine\u001b[0m\u001b[0;34m=\u001b[0m\u001b[0mself\u001b[0m\u001b[0;34m.\u001b[0m\u001b[0mengine\u001b[0m\u001b[0;34m,\u001b[0m \u001b[0mengine_kwargs\u001b[0m\u001b[0;34m=\u001b[0m\u001b[0mself\u001b[0m\u001b[0;34m.\u001b[0m\u001b[0mengine_kwargs\u001b[0m\u001b[0;34m)\u001b[0m\u001b[0;34m\u001b[0m\u001b[0;34m\u001b[0m\u001b[0m\n\u001b[1;32m    915\u001b[0m \u001b[0;34m\u001b[0m\u001b[0m\n\u001b[0;32m--> 916\u001b[0;31m         \u001b[0;32mreturn\u001b[0m \u001b[0mself\u001b[0m\u001b[0;34m.\u001b[0m\u001b[0mapply_standard\u001b[0m\u001b[0;34m(\u001b[0m\u001b[0;34m)\u001b[0m\u001b[0;34m\u001b[0m\u001b[0;34m\u001b[0m\u001b[0m\n\u001b[0m\u001b[1;32m    917\u001b[0m \u001b[0;34m\u001b[0m\u001b[0m\n\u001b[1;32m    918\u001b[0m     \u001b[0;32mdef\u001b[0m \u001b[0magg\u001b[0m\u001b[0;34m(\u001b[0m\u001b[0mself\u001b[0m\u001b[0;34m)\u001b[0m\u001b[0;34m:\u001b[0m\u001b[0;34m\u001b[0m\u001b[0;34m\u001b[0m\u001b[0m\n",
            "\u001b[0;32m/usr/local/lib/python3.10/dist-packages/pandas/core/apply.py\u001b[0m in \u001b[0;36mapply_standard\u001b[0;34m(self)\u001b[0m\n\u001b[1;32m   1061\u001b[0m     \u001b[0;32mdef\u001b[0m \u001b[0mapply_standard\u001b[0m\u001b[0;34m(\u001b[0m\u001b[0mself\u001b[0m\u001b[0;34m)\u001b[0m\u001b[0;34m:\u001b[0m\u001b[0;34m\u001b[0m\u001b[0;34m\u001b[0m\u001b[0m\n\u001b[1;32m   1062\u001b[0m         \u001b[0;32mif\u001b[0m \u001b[0mself\u001b[0m\u001b[0;34m.\u001b[0m\u001b[0mengine\u001b[0m \u001b[0;34m==\u001b[0m \u001b[0;34m\"python\"\u001b[0m\u001b[0;34m:\u001b[0m\u001b[0;34m\u001b[0m\u001b[0;34m\u001b[0m\u001b[0m\n\u001b[0;32m-> 1063\u001b[0;31m             \u001b[0mresults\u001b[0m\u001b[0;34m,\u001b[0m \u001b[0mres_index\u001b[0m \u001b[0;34m=\u001b[0m \u001b[0mself\u001b[0m\u001b[0;34m.\u001b[0m\u001b[0mapply_series_generator\u001b[0m\u001b[0;34m(\u001b[0m\u001b[0;34m)\u001b[0m\u001b[0;34m\u001b[0m\u001b[0;34m\u001b[0m\u001b[0m\n\u001b[0m\u001b[1;32m   1064\u001b[0m         \u001b[0;32melse\u001b[0m\u001b[0;34m:\u001b[0m\u001b[0;34m\u001b[0m\u001b[0;34m\u001b[0m\u001b[0m\n\u001b[1;32m   1065\u001b[0m             \u001b[0mresults\u001b[0m\u001b[0;34m,\u001b[0m \u001b[0mres_index\u001b[0m \u001b[0;34m=\u001b[0m \u001b[0mself\u001b[0m\u001b[0;34m.\u001b[0m\u001b[0mapply_series_numba\u001b[0m\u001b[0;34m(\u001b[0m\u001b[0;34m)\u001b[0m\u001b[0;34m\u001b[0m\u001b[0;34m\u001b[0m\u001b[0m\n",
            "\u001b[0;32m/usr/local/lib/python3.10/dist-packages/pandas/core/apply.py\u001b[0m in \u001b[0;36mapply_series_generator\u001b[0;34m(self)\u001b[0m\n\u001b[1;32m   1079\u001b[0m             \u001b[0;32mfor\u001b[0m \u001b[0mi\u001b[0m\u001b[0;34m,\u001b[0m \u001b[0mv\u001b[0m \u001b[0;32min\u001b[0m \u001b[0menumerate\u001b[0m\u001b[0;34m(\u001b[0m\u001b[0mseries_gen\u001b[0m\u001b[0;34m)\u001b[0m\u001b[0;34m:\u001b[0m\u001b[0;34m\u001b[0m\u001b[0;34m\u001b[0m\u001b[0m\n\u001b[1;32m   1080\u001b[0m                 \u001b[0;31m# ignore SettingWithCopy here in case the user mutates\u001b[0m\u001b[0;34m\u001b[0m\u001b[0;34m\u001b[0m\u001b[0m\n\u001b[0;32m-> 1081\u001b[0;31m                 \u001b[0mresults\u001b[0m\u001b[0;34m[\u001b[0m\u001b[0mi\u001b[0m\u001b[0;34m]\u001b[0m \u001b[0;34m=\u001b[0m \u001b[0mself\u001b[0m\u001b[0;34m.\u001b[0m\u001b[0mfunc\u001b[0m\u001b[0;34m(\u001b[0m\u001b[0mv\u001b[0m\u001b[0;34m,\u001b[0m \u001b[0;34m*\u001b[0m\u001b[0mself\u001b[0m\u001b[0;34m.\u001b[0m\u001b[0margs\u001b[0m\u001b[0;34m,\u001b[0m \u001b[0;34m**\u001b[0m\u001b[0mself\u001b[0m\u001b[0;34m.\u001b[0m\u001b[0mkwargs\u001b[0m\u001b[0;34m)\u001b[0m\u001b[0;34m\u001b[0m\u001b[0;34m\u001b[0m\u001b[0m\n\u001b[0m\u001b[1;32m   1082\u001b[0m                 \u001b[0;32mif\u001b[0m \u001b[0misinstance\u001b[0m\u001b[0;34m(\u001b[0m\u001b[0mresults\u001b[0m\u001b[0;34m[\u001b[0m\u001b[0mi\u001b[0m\u001b[0;34m]\u001b[0m\u001b[0;34m,\u001b[0m \u001b[0mABCSeries\u001b[0m\u001b[0;34m)\u001b[0m\u001b[0;34m:\u001b[0m\u001b[0;34m\u001b[0m\u001b[0;34m\u001b[0m\u001b[0m\n\u001b[1;32m   1083\u001b[0m                     \u001b[0;31m# If we have a view on v, we need to make a copy because\u001b[0m\u001b[0;34m\u001b[0m\u001b[0;34m\u001b[0m\u001b[0m\n",
            "\u001b[0;32m<ipython-input-38-cbb397aacc25>\u001b[0m in \u001b[0;36m<lambda>\u001b[0;34m(row)\u001b[0m\n\u001b[1;32m     11\u001b[0m \u001b[0;34m\u001b[0m\u001b[0m\n\u001b[1;32m     12\u001b[0m \u001b[0;31m# คำนวณจำนวน 7-11 และโรงเรียนในรัศมี 1 กิโลเมตร\u001b[0m\u001b[0;34m\u001b[0m\u001b[0;34m\u001b[0m\u001b[0m\n\u001b[0;32m---> 13\u001b[0;31m \u001b[0mdata_house\u001b[0m\u001b[0;34m[\u001b[0m\u001b[0;34m'd1000-7/11'\u001b[0m\u001b[0;34m]\u001b[0m \u001b[0;34m=\u001b[0m \u001b[0mdata_house\u001b[0m\u001b[0;34m.\u001b[0m\u001b[0mapply\u001b[0m\u001b[0;34m(\u001b[0m\u001b[0;32mlambda\u001b[0m \u001b[0mrow\u001b[0m\u001b[0;34m:\u001b[0m \u001b[0mcount_nearby\u001b[0m\u001b[0;34m(\u001b[0m\u001b[0mrow\u001b[0m\u001b[0;34m[\u001b[0m\u001b[0;34m'latitude'\u001b[0m\u001b[0;34m]\u001b[0m\u001b[0;34m,\u001b[0m \u001b[0mrow\u001b[0m\u001b[0;34m[\u001b[0m\u001b[0;34m'longitude'\u001b[0m\u001b[0;34m]\u001b[0m\u001b[0;34m,\u001b[0m \u001b[0mseven_eleven_data\u001b[0m\u001b[0;34m)\u001b[0m\u001b[0;34m,\u001b[0m \u001b[0maxis\u001b[0m\u001b[0;34m=\u001b[0m\u001b[0;36m1\u001b[0m\u001b[0;34m)\u001b[0m\u001b[0;34m\u001b[0m\u001b[0;34m\u001b[0m\u001b[0m\n\u001b[0m\u001b[1;32m     14\u001b[0m \u001b[0mdata_house\u001b[0m\u001b[0;34m[\u001b[0m\u001b[0;34m'd1000-school'\u001b[0m\u001b[0;34m]\u001b[0m \u001b[0;34m=\u001b[0m \u001b[0mdata_house\u001b[0m\u001b[0;34m.\u001b[0m\u001b[0mapply\u001b[0m\u001b[0;34m(\u001b[0m\u001b[0;32mlambda\u001b[0m \u001b[0mrow\u001b[0m\u001b[0;34m:\u001b[0m \u001b[0mcount_nearby\u001b[0m\u001b[0;34m(\u001b[0m\u001b[0mrow\u001b[0m\u001b[0;34m[\u001b[0m\u001b[0;34m'latitude'\u001b[0m\u001b[0;34m]\u001b[0m\u001b[0;34m,\u001b[0m \u001b[0mrow\u001b[0m\u001b[0;34m[\u001b[0m\u001b[0;34m'longitude'\u001b[0m\u001b[0;34m]\u001b[0m\u001b[0;34m,\u001b[0m \u001b[0mschool_data\u001b[0m\u001b[0;34m)\u001b[0m\u001b[0;34m,\u001b[0m \u001b[0maxis\u001b[0m\u001b[0;34m=\u001b[0m\u001b[0;36m1\u001b[0m\u001b[0;34m)\u001b[0m\u001b[0;34m\u001b[0m\u001b[0;34m\u001b[0m\u001b[0m\n",
            "\u001b[0;32m<ipython-input-38-cbb397aacc25>\u001b[0m in \u001b[0;36mcount_nearby\u001b[0;34m(lat, lon, places_data)\u001b[0m\n\u001b[1;32m      5\u001b[0m             \u001b[0mplace_lat\u001b[0m \u001b[0;34m=\u001b[0m \u001b[0mplace\u001b[0m\u001b[0;34m[\u001b[0m\u001b[0;34m'geometry'\u001b[0m\u001b[0;34m]\u001b[0m\u001b[0;34m[\u001b[0m\u001b[0;34m'location'\u001b[0m\u001b[0;34m]\u001b[0m\u001b[0;34m[\u001b[0m\u001b[0;34m'lat'\u001b[0m\u001b[0;34m]\u001b[0m  \u001b[0;31m# ใช้ 'geometry' -> 'location' -> 'lat'\u001b[0m\u001b[0;34m\u001b[0m\u001b[0;34m\u001b[0m\u001b[0m\n\u001b[1;32m      6\u001b[0m             \u001b[0mplace_lon\u001b[0m \u001b[0;34m=\u001b[0m \u001b[0mplace\u001b[0m\u001b[0;34m[\u001b[0m\u001b[0;34m'geometry'\u001b[0m\u001b[0;34m]\u001b[0m\u001b[0;34m[\u001b[0m\u001b[0;34m'location'\u001b[0m\u001b[0;34m]\u001b[0m\u001b[0;34m[\u001b[0m\u001b[0;34m'lng'\u001b[0m\u001b[0;34m]\u001b[0m  \u001b[0;31m# ใช้ 'geometry' -> 'location' -> 'lng'\u001b[0m\u001b[0;34m\u001b[0m\u001b[0;34m\u001b[0m\u001b[0m\n\u001b[0;32m----> 7\u001b[0;31m             \u001b[0mdistance\u001b[0m \u001b[0;34m=\u001b[0m \u001b[0mhaversine\u001b[0m\u001b[0;34m(\u001b[0m\u001b[0mlat\u001b[0m\u001b[0;34m,\u001b[0m \u001b[0mlon\u001b[0m\u001b[0;34m,\u001b[0m \u001b[0mplace_lat\u001b[0m\u001b[0;34m,\u001b[0m \u001b[0mplace_lon\u001b[0m\u001b[0;34m)\u001b[0m\u001b[0;34m\u001b[0m\u001b[0;34m\u001b[0m\u001b[0m\n\u001b[0m\u001b[1;32m      8\u001b[0m             \u001b[0;32mif\u001b[0m \u001b[0mdistance\u001b[0m \u001b[0;34m<=\u001b[0m \u001b[0;36m1\u001b[0m\u001b[0;34m:\u001b[0m  \u001b[0;31m# ถ้าอยู่ในรัศมี 1 กม.\u001b[0m\u001b[0;34m\u001b[0m\u001b[0;34m\u001b[0m\u001b[0m\n\u001b[1;32m      9\u001b[0m                 \u001b[0mcount\u001b[0m \u001b[0;34m+=\u001b[0m \u001b[0;36m1\u001b[0m\u001b[0;34m\u001b[0m\u001b[0;34m\u001b[0m\u001b[0m\n",
            "\u001b[0;31mTypeError\u001b[0m: 'module' object is not callable"
          ]
        }
      ]
    },
    {
      "cell_type": "markdown",
      "metadata": {
        "id": "pGjY5-ZwIQ3w"
      },
      "source": [
        "## ประเมินการซื้อขาย"
      ]
    },
    {
      "cell_type": "code",
      "execution_count": 18,
      "metadata": {
        "id": "_Fy0QYuuHIaJ"
      },
      "outputs": [],
      "source": [
        "# ฟังก์ชั่นในการตรวจสอบว่า ID ของบ้านอยู่ในรายการของ 7-11 หรือ โรงเรียน\n",
        "def check_nearby(row_id, data_list):\n",
        "    return 1 if row_id in data_list else 0"
      ]
    },
    {
      "cell_type": "code",
      "execution_count": 19,
      "metadata": {
        "id": "TSSWuPuDHzE-"
      },
      "outputs": [],
      "source": [
        "data_house = data_house.merge(\n",
        "    appraisal[['ID', 'ประเมินราคาซื้อ-ขาย', 'ให้คะแนนทรัพย์']],\n",
        "    left_on='id', right_on='ID', how='left'\n",
        ")\n",
        "\n",
        "# เปลี่ยนชื่อคอลัมน์ให้ตรงกับความต้องการ\n",
        "data_house.rename(columns={\n",
        "    'ประเมินราคาซื้อ-ขาย': 'estimator',\n",
        "    'ให้คะแนนทรัพย์': 'score'\n",
        "}, inplace=True)\n"
      ]
    },
    {
      "cell_type": "code",
      "execution_count": 20,
      "metadata": {
        "colab": {
          "base_uri": "https://localhost:8080/"
        },
        "id": "xR4xgc0hIHDI",
        "outputId": "81fe43ba-5f58-4a97-9e66-c69c87573243"
      },
      "outputs": [
        {
          "output_type": "stream",
          "name": "stdout",
          "text": [
            "   id  predicted_price  property_score\n",
            "0   1        2898000.0             NaN\n",
            "1   1        2898000.0             NaN\n",
            "2   4        2898000.0             NaN\n",
            "3   4        2898000.0             NaN\n",
            "4  18        2898000.0             NaN\n"
          ]
        }
      ],
      "source": [
        "# แปลงคอลัมน์ 'estimator' และ 'score' เป็นตัวเลข (float) ก่อนการคำนวณ\n",
        "data_house['estimator'] = pd.to_numeric(data_house['estimator'], errors='coerce')\n",
        "data_house['score'] = pd.to_numeric(data_house['score'], errors='coerce')\n",
        "\n",
        "# คำนวณราคาโดยเฉลี่ยจากราคาประเมิน\n",
        "data_house['predicted_price'] = data_house['estimator'].mean()\n",
        "\n",
        "# คำนวณคะแนนทรัพย์\n",
        "data_house['property_score'] = data_house['score'].mean()\n",
        "\n",
        "# หากต้องการดูผลลัพธ์ที่คำนวณแล้ว\n",
        "print(data_house[['id', 'predicted_price', 'property_score']].head())\n"
      ]
    },
    {
      "cell_type": "code",
      "execution_count": 21,
      "metadata": {
        "colab": {
          "base_uri": "https://localhost:8080/"
        },
        "id": "gTVdnlIgIA5f",
        "outputId": "c211878f-9da8-4d48-f4e0-9879c3e085b3"
      },
      "outputs": [
        {
          "output_type": "stream",
          "name": "stdout",
          "text": [
            "   id  predicted_price  property_score\n",
            "0   1        2898000.0             NaN\n",
            "1   1        2898000.0             NaN\n",
            "2   4        2898000.0             NaN\n",
            "3   4        2898000.0             NaN\n",
            "4  18        2898000.0             NaN\n"
          ]
        }
      ],
      "source": [
        "# คำนวณราคาโดยเฉลี่ยจากราคาประเมิน\n",
        "data_house['predicted_price'] = data_house['estimator'].mean()\n",
        "\n",
        "# คำนวณคะแนนทรัพย์\n",
        "data_house['property_score'] = data_house['score'].mean()\n",
        "\n",
        "# หากต้องการดูผลลัพธ์ที่คำนวณแล้ว\n",
        "print(data_house[['id', 'predicted_price', 'property_score']].head())\n"
      ]
    },
    {
      "cell_type": "markdown",
      "metadata": {
        "id": "clXqDt-XGJRS"
      },
      "source": [
        "# 2 จากตารางในข้อ 1 ตอบคำถามต่อไปนี้ (5 คะแนน)\n",
        "1. zone ใดมีราคาซื้อขายบ้าน 'sell price' เฉลี่ยสูงที่สุด (1 คะแนน)\n",
        "2. บ้านที่มีจำนวน 7-11 อยู่ในรัศมี 1 กิโลเมตรมากที่สุด ราคาเท่าไหร่ (2 คะแนน)\n",
        "3. ตำบล (sub_district) ไหน ได้คะแนนทรัพย์ 'score' เฉลี่ยจากนักประเมินมากที่สุด (2 คะแนน)"
      ]
    },
    {
      "cell_type": "code",
      "source": [
        "print(data_house.columns)\n"
      ],
      "metadata": {
        "colab": {
          "base_uri": "https://localhost:8080/"
        },
        "id": "bDRoheBrK7PL",
        "outputId": "5c5ae43d-8c6e-4d73-ead9-f95928844ad8"
      },
      "execution_count": 22,
      "outputs": [
        {
          "output_type": "stream",
          "name": "stdout",
          "text": [
            "Index(['id', 'name_th', 'name_en', 'project_name', 'company', 'province',\n",
            "       'district', 'sub_district', 'property_type', 'home improvement',\n",
            "       'renovate', 'public utility', 'land type', 'land wide(m)',\n",
            "       'land long(m)', 'topsoil', 'corner', 'zip_code', 'alley', 'street',\n",
            "       'latitude', 'longitude', 'number_of_rai', 'number_of_ngan',\n",
            "       'number_of_va', 'construct_year', 'model', 'sell_price',\n",
            "       'number_of_unit', 'number_of_story', 'number_of_bedroom',\n",
            "       'number_of_bathroom', 'number_of_parking', 'usable_area',\n",
            "       'central_cost', 'building_number', 'number_of_building', 'floor_number',\n",
            "       'parking_percentage', 'has_pool', 'has_keycard', 'has_security',\n",
            "       'has_fitness', 'has_garden', 'direction_ตะวันตกเฉียงเหนือ',\n",
            "       'direction_ตะวันตกเฉียงใต้', 'direction_ตะวันออก',\n",
            "       'direction_ตะวันออกเฉียงเหนือ', 'direction_ตะวันออกเฉียงใต้',\n",
            "       'direction_ตะวันออกเฉียงใต้ของเมือง', 'direction_ทางทิศตะวันออก',\n",
            "       'direction_ทิศตะวันออก', 'direction_ทิศเหนือ', 'direction_เหนือ',\n",
            "       'direction_ใต้', 'direction_ไม่ระบุ', 'furniture_มีบางส่วน',\n",
            "       'furniture_ไม่มี', 'furniture_ไม่ระบุ',\n",
            "       'zone_ดอนบม-บายพาส-บ้านผือ-พระลับ', 'zone_ทุ่งสร้าง-ศรีจันทร์-ราชมงคล',\n",
            "       'zone_ท่าพระ-หนองบัวดีหมี', 'zone_บึงเนียม', 'zone_บ้านทุ่ม-บ้านม่วง',\n",
            "       'zone_บ้านเป็ด-โคกฟันโปง', 'zone_ม.ภาค-บ้านกอก-บึงหนองโคตร',\n",
            "       'zone_มะลิวัลย์-ร.8-สนามบิน', 'zone_มิตรภาพ-บ้านสำราญ',\n",
            "       'zone_ศิลา-โกทา-หนองไผ่-บ้านดอน', 'zone_สามเหลี่ยม-กังสดาล-ม.ขอนแก่น',\n",
            "       'zone_เหล่านาดี-บ้านสะอาด-บ้านโจด', 'zone_แดงใหญ่', 'zone_โคกสี',\n",
            "       'zone_โนนทัน-บึงแก่นนคร', 'zone_โนนม่วง-มข.-เลี่ยงเมือง-โนนเรือง',\n",
            "       'zone_ในเมือง-รื่นรมย์-เทพารักษ์', 'd1000-7/11', 'd1000-school', 'ID',\n",
            "       'estimator', 'score', 'predicted_price', 'property_score'],\n",
            "      dtype='object')\n"
          ]
        }
      ]
    },
    {
      "cell_type": "code",
      "source": [
        "# คำนวณราคาเฉลี่ยของ 'sell_price' ตาม zone ที่มีคอลัมน์ที่เริ่มต้นด้วย 'zone_'\n",
        "zone_columns = [col for col in data_house.columns if col.startswith('zone_')]\n",
        "zone_data = data_house[zone_columns + ['sell_price']]\n",
        "\n",
        "# คำนวณค่าเฉลี่ยของ 'sell_price' สำหรับแต่ละโซน\n",
        "zone_avg_price = zone_data.mean()\n",
        "\n",
        "# หาค่า zone ที่มีราคาเฉลี่ยสูงสุด\n",
        "highest_zone = zone_avg_price.idxmax()\n",
        "highest_price = zone_avg_price.max()\n",
        "\n",
        "# แสดงชื่อโซนที่มีราคาเฉลี่ยสูงสุด\n",
        "zone_name = highest_zone.split('_')[-1]\n",
        "highest_zone, highest_price, zone_name"
      ],
      "metadata": {
        "colab": {
          "base_uri": "https://localhost:8080/"
        },
        "id": "30ppzpgTKzmE",
        "outputId": "32d95b8c-bd6a-4d28-c80d-4cf0ae640f1f"
      },
      "execution_count": 30,
      "outputs": [
        {
          "output_type": "execute_result",
          "data": {
            "text/plain": [
              "('sell_price', 0.33749133155785255, 'price')"
            ]
          },
          "metadata": {},
          "execution_count": 30
        }
      ]
    },
    {
      "cell_type": "code",
      "source": [
        "# หาบ้านที่มีจำนวน 7-11 ในรัศมี 1 กม. มากที่สุด\n",
        "max_seven_eleven_count = data_house['d1000-7/11'].max()\n",
        "house_with_max_seven_eleven = data_house[data_house['d1000-7/11'] == max_seven_eleven_count]\n",
        "\n",
        "# ดูราคาของบ้านที่มีจำนวน 7-11 มากที่สุด\n",
        "house_with_max_seven_eleven_price = house_with_max_seven_eleven['sell_price'].values[0]\n",
        "\n",
        "max_seven_eleven_count, house_with_max_seven_eleven_price\n"
      ],
      "metadata": {
        "id": "oLK53zx_Kzjz",
        "colab": {
          "base_uri": "https://localhost:8080/"
        },
        "outputId": "6e46beff-4dfc-4653-baf2-05dacbe9fc51"
      },
      "execution_count": 27,
      "outputs": [
        {
          "output_type": "execute_result",
          "data": {
            "text/plain": [
              "(3209, 0.30522341095028316)"
            ]
          },
          "metadata": {},
          "execution_count": 27
        }
      ]
    },
    {
      "cell_type": "code",
      "source": [
        "# prompt: ตำบล (sub_district) ไหน ได้คะแนนทรัพย์ 'score' เฉลี่ยจากนักประเมินมากที่สุด\n",
        "\n",
        "# Group data by sub_district and calculate the mean score for each sub_district\n",
        "sub_district_avg_score = data_house.groupby('sub_district')['score'].mean()\n",
        "\n",
        "# Find the sub_district with the highest average score\n",
        "sub_district_with_highest_score = sub_district_avg_score.idxmax()\n",
        "highest_avg_score = sub_district_avg_score.max()\n",
        "\n",
        "print(f\"ตำบลที่มีคะแนนทรัพย์เฉลี่ยสูงสุดคือ: {sub_district_with_highest_score} (คะแนนเฉลี่ย: {highest_avg_score})\")"
      ],
      "metadata": {
        "colab": {
          "base_uri": "https://localhost:8080/"
        },
        "id": "HTXnyRhKQpd0",
        "outputId": "e53e2400-1d62-4d47-f57f-0d4d19391a53"
      },
      "execution_count": 39,
      "outputs": [
        {
          "output_type": "stream",
          "name": "stdout",
          "text": [
            "ตำบลที่มีคะแนนทรัพย์เฉลี่ยสูงสุดคือ: nan (คะแนนเฉลี่ย: nan)\n"
          ]
        },
        {
          "output_type": "stream",
          "name": "stderr",
          "text": [
            "<ipython-input-39-c60540908f03>:7: FutureWarning: The behavior of Series.idxmax with all-NA values, or any-NA and skipna=False, is deprecated. In a future version this will raise ValueError\n",
            "  sub_district_with_highest_score = sub_district_avg_score.idxmax()\n"
          ]
        }
      ]
    }
  ],
  "metadata": {
    "colab": {
      "provenance": [],
      "include_colab_link": true
    },
    "kernelspec": {
      "display_name": "Python 3",
      "name": "python3"
    },
    "language_info": {
      "name": "python"
    }
  },
  "nbformat": 4,
  "nbformat_minor": 0
}